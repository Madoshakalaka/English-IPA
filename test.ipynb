{
 "cells": [
  {
   "cell_type": "code",
   "execution_count": 17,
   "metadata": {
    "collapsed": true,
    "pycharm": {
     "is_executing": false,
     "name": "#%%\n"
    }
   },
   "outputs": [
    {
     "name": "stdout",
     "text": [
      "{'w', 'v', 'ŋ', 'p', 'ɝ', 'ɑ', 'ɾ', 'b', 'ɚ', 'ɔ', 'ʊ', 'n', 'u', 'j', 'm', 'k', 'i', 'ə', 'd', 'æ', 'ɛ', 'o', 's', 'ɵ', 'e', 'ʒ', 'l', 'z', '̩', 'ʌ', 'g', 'ɹ', 'f', 'ɪ', 'h', 'ð', 'ʃ', 'a', 't'}\n"
     ],
     "output_type": "stream"
    }
   ],
   "source": [
    "from collections import defaultdict\n",
    "from pathlib import Path\n",
    "from typing import List, Optional, Dict, Tuple, Set\n",
    "\n",
    "from pysle.isletool import LexicalTool, WordNotInISLE\n",
    "\n",
    "isleDict = LexicalTool('ISLEdict.txt')\n",
    "\n",
    "\n",
    "def get_ipa_syllables(word) -> Optional[List[List[str]]]:\n",
    "    try:\n",
    "        return isleDict.lookup(word)[0][0][0]\n",
    "    except WordNotInISLE:\n",
    "        return None\n",
    "\n",
    "sy_file = Path('25K-syllabified-sorted-alphabetically.txt')\n",
    "lines = sy_file.read_text().splitlines()\n",
    "\n",
    "failed = 0\n",
    "total = len(lines)\n",
    "\n",
    "correspondence: Dict[str, List[Tuple[str, str]]] = defaultdict(list)\n",
    "\n",
    "stress_markers = {'ˌ', 'ˈ'}\n",
    "all_chars: Set[str] = set()\n",
    "for line in lines:\n",
    "    word = line.replace(';', '')\n",
    "    word_morphemes = line.split(';')\n",
    "    ipa_syllables = get_ipa_syllables(word)\n",
    "    if ipa_syllables is None or len(ipa_syllables) != len(word_morphemes):\n",
    "        failed += 1\n",
    "    else:\n",
    "        for i, syllable in enumerate(ipa_syllables):\n",
    "            new_syllable = ''\n",
    "            \n",
    "            for part in syllable:\n",
    "                new_part = ''\n",
    "                for char in part:\n",
    "                    if char not in stress_markers:\n",
    "                        new_part += char\n",
    "                new_syllable += new_part\n",
    "            all_chars |= set(new_syllable)\n",
    "            correspondence[word].append((word_morphemes[i], new_syllable))\n",
    "print(all_chars)"
   ]
  }
 ],
 "metadata": {
  "kernelspec": {
   "display_name": "Python 3",
   "language": "python",
   "name": "python3"
  },
  "language_info": {
   "codemirror_mode": {
    "name": "ipython",
    "version": 2
   },
   "file_extension": ".py",
   "mimetype": "text/x-python",
   "name": "python",
   "nbconvert_exporter": "python",
   "pygments_lexer": "ipython2",
   "version": "2.7.6"
  },
  "pycharm": {
   "stem_cell": {
    "cell_type": "raw",
    "source": [],
    "metadata": {
     "collapsed": false
    }
   }
  }
 },
 "nbformat": 4,
 "nbformat_minor": 0
}