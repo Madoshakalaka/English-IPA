{
 "cells": [
  {
   "cell_type": "code",
   "execution_count": 14,
   "metadata": {
    "collapsed": true,
    "pycharm": {
     "is_executing": false,
     "name": "#%%\n"
    }
   },
   "outputs": [
    {
     "name": "stdout",
     "text": [
      "[('# b ˌaʊ t #', ['in', 'jj', 'rb', 'rbr', 'rp']), ('# ə . b ˈaʊ t #', ['in', 'jj', 'rb', 'rbr', 'rp'])]\n[(([['b', 'ˌaʊ', 't']], [0], [1]), ([['ə'], ['b', 'ˈaʊ', 't']], [1], [1]))]\n[['b', 'ˌaʊ', 't']]\n"
     ],
     "output_type": "stream"
    }
   ],
   "source": [
    "\n",
    "from pysle.isletool import LexicalTool, WordNotInISLE\n",
    "from pysle.pronunciationtools import findBestSyllabification\n",
    "\n",
    "isleDict = LexicalTool('ISLEdict.txt')\n",
    "# \n",
    "# print(findBestSyllabification('elephant'))\n",
    "\n",
    "def correspond(word):\n",
    "    try:\n",
    "        b = isleDict.data.get(word)\n",
    "        print(b)\n",
    "        a = isleDict.lookup(word)\n",
    "    except WordNotInISLE:\n",
    "        pass\n",
    "    print(a)\n",
    "    print(a[0][0][0])\n",
    "\n",
    "correspond('about')"
   ]
  }
 ],
 "metadata": {
  "kernelspec": {
   "display_name": "Python 3",
   "language": "python",
   "name": "python3"
  },
  "language_info": {
   "codemirror_mode": {
    "name": "ipython",
    "version": 2
   },
   "file_extension": ".py",
   "mimetype": "text/x-python",
   "name": "python",
   "nbconvert_exporter": "python",
   "pygments_lexer": "ipython2",
   "version": "2.7.6"
  },
  "pycharm": {
   "stem_cell": {
    "cell_type": "raw",
    "source": [],
    "metadata": {
     "collapsed": false
    }
   }
  }
 },
 "nbformat": 4,
 "nbformat_minor": 0
}